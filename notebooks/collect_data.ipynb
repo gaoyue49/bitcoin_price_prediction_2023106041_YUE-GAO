{
 "cells": [
  {
   "cell_type": "code",
   "execution_count": 1,
   "id": "baebfce5",
   "metadata": {},
   "outputs": [
    {
     "name": "stdout",
     "output_type": "stream",
     "text": [
      "/opt/anaconda3/bin/python\n"
     ]
    }
   ],
   "source": [
    "import sys\n",
    "print(sys.executable)"
   ]
  },
  {
   "cell_type": "code",
   "execution_count": 6,
   "id": "5d65f2f8",
   "metadata": {},
   "outputs": [
    {
     "name": "stdout",
     "output_type": "stream",
     "text": [
      "Collecting tweepy\n",
      "  Using cached tweepy-4.15.0-py3-none-any.whl.metadata (4.1 kB)\n",
      "Collecting pandas\n",
      "  Downloading pandas-2.2.3-cp312-cp312-macosx_11_0_arm64.whl.metadata (89 kB)\n",
      "\u001b[2K     \u001b[38;2;114;156;31m━━━━━━━━━━━━━━━━━━━━━━━━━━━━━━━━━━━━━━━━\u001b[0m \u001b[32m89.9/89.9 kB\u001b[0m \u001b[31m2.5 MB/s\u001b[0m eta \u001b[36m0:00:00\u001b[0m\n",
      "\u001b[?25hCollecting oauthlib<4,>=3.2.0 (from tweepy)\n",
      "  Using cached oauthlib-3.2.2-py3-none-any.whl.metadata (7.5 kB)\n",
      "Collecting requests<3,>=2.27.0 (from tweepy)\n",
      "  Downloading requests-2.32.3-py3-none-any.whl.metadata (4.6 kB)\n",
      "Collecting requests-oauthlib<3,>=1.2.0 (from tweepy)\n",
      "  Using cached requests_oauthlib-2.0.0-py2.py3-none-any.whl.metadata (11 kB)\n",
      "Collecting numpy>=1.26.0 (from pandas)\n",
      "  Downloading numpy-2.2.5-cp312-cp312-macosx_14_0_arm64.whl.metadata (62 kB)\n",
      "\u001b[2K     \u001b[38;2;114;156;31m━━━━━━━━━━━━━━━━━━━━━━━━━━━━━━━━━━━━━━━━\u001b[0m \u001b[32m62.0/62.0 kB\u001b[0m \u001b[31m5.8 MB/s\u001b[0m eta \u001b[36m0:00:00\u001b[0m\n",
      "\u001b[?25hRequirement already satisfied: python-dateutil>=2.8.2 in /Users/gaoyue/Library/Python/3.12/lib/python/site-packages (from pandas) (2.9.0.post0)\n",
      "Collecting pytz>=2020.1 (from pandas)\n",
      "  Downloading pytz-2025.2-py2.py3-none-any.whl.metadata (22 kB)\n",
      "Collecting tzdata>=2022.7 (from pandas)\n",
      "  Downloading tzdata-2025.2-py2.py3-none-any.whl.metadata (1.4 kB)\n",
      "Requirement already satisfied: six>=1.5 in /Users/gaoyue/Library/Python/3.12/lib/python/site-packages (from python-dateutil>=2.8.2->pandas) (1.16.0)\n",
      "Collecting charset-normalizer<4,>=2 (from requests<3,>=2.27.0->tweepy)\n",
      "  Downloading charset_normalizer-3.4.1-cp312-cp312-macosx_10_13_universal2.whl.metadata (35 kB)\n",
      "Collecting idna<4,>=2.5 (from requests<3,>=2.27.0->tweepy)\n",
      "  Downloading idna-3.10-py3-none-any.whl.metadata (10 kB)\n",
      "Collecting urllib3<3,>=1.21.1 (from requests<3,>=2.27.0->tweepy)\n",
      "  Downloading urllib3-2.4.0-py3-none-any.whl.metadata (6.5 kB)\n",
      "Collecting certifi>=2017.4.17 (from requests<3,>=2.27.0->tweepy)\n",
      "  Downloading certifi-2025.1.31-py3-none-any.whl.metadata (2.5 kB)\n",
      "Using cached tweepy-4.15.0-py3-none-any.whl (99 kB)\n",
      "Downloading pandas-2.2.3-cp312-cp312-macosx_11_0_arm64.whl (11.4 MB)\n",
      "\u001b[2K   \u001b[38;2;114;156;31m━━━━━━━━━━━━━━━━━━━━━━━━━━━━━━━━━━━━━━━━\u001b[0m \u001b[32m11.4/11.4 MB\u001b[0m \u001b[31m11.9 MB/s\u001b[0m eta \u001b[36m0:00:00\u001b[0mm eta \u001b[36m0:00:01\u001b[0m[36m0:00:01\u001b[0m\n",
      "\u001b[?25hDownloading numpy-2.2.5-cp312-cp312-macosx_14_0_arm64.whl (5.2 MB)\n",
      "\u001b[2K   \u001b[38;2;114;156;31m━━━━━━━━━━━━━━━━━━━━━━━━━━━━━━━━━━━━━━━━\u001b[0m \u001b[32m5.2/5.2 MB\u001b[0m \u001b[31m11.1 MB/s\u001b[0m eta \u001b[36m0:00:00\u001b[0mm eta \u001b[36m0:00:01\u001b[0m[36m0:00:01\u001b[0m\n",
      "\u001b[?25hUsing cached oauthlib-3.2.2-py3-none-any.whl (151 kB)\n",
      "Downloading pytz-2025.2-py2.py3-none-any.whl (509 kB)\n",
      "\u001b[2K   \u001b[38;2;114;156;31m━━━━━━━━━━━━━━━━━━━━━━━━━━━━━━━━━━━━━━━━\u001b[0m \u001b[32m509.2/509.2 kB\u001b[0m \u001b[31m10.6 MB/s\u001b[0m eta \u001b[36m0:00:00\u001b[0m[36m0:00:01\u001b[0m\n",
      "\u001b[?25hDownloading requests-2.32.3-py3-none-any.whl (64 kB)\n",
      "\u001b[2K   \u001b[38;2;114;156;31m━━━━━━━━━━━━━━━━━━━━━━━━━━━━━━━━━━━━━━━━\u001b[0m \u001b[32m64.9/64.9 kB\u001b[0m \u001b[31m4.1 MB/s\u001b[0m eta \u001b[36m0:00:00\u001b[0m\n",
      "\u001b[?25hUsing cached requests_oauthlib-2.0.0-py2.py3-none-any.whl (24 kB)\n",
      "Downloading tzdata-2025.2-py2.py3-none-any.whl (347 kB)\n",
      "\u001b[2K   \u001b[38;2;114;156;31m━━━━━━━━━━━━━━━━━━━━━━━━━━━━━━━━━━━━━━━━\u001b[0m \u001b[32m347.8/347.8 kB\u001b[0m \u001b[31m9.1 MB/s\u001b[0m eta \u001b[36m0:00:00\u001b[0m\n",
      "\u001b[?25hDownloading certifi-2025.1.31-py3-none-any.whl (166 kB)\n",
      "\u001b[2K   \u001b[38;2;114;156;31m━━━━━━━━━━━━━━━━━━━━━━━━━━━━━━━━━━━━━━━━\u001b[0m \u001b[32m166.4/166.4 kB\u001b[0m \u001b[31m7.9 MB/s\u001b[0m eta \u001b[36m0:00:00\u001b[0m\n",
      "\u001b[?25hDownloading charset_normalizer-3.4.1-cp312-cp312-macosx_10_13_universal2.whl (196 kB)\n",
      "\u001b[2K   \u001b[38;2;114;156;31m━━━━━━━━━━━━━━━━━━━━━━━━━━━━━━━━━━━━━━━━\u001b[0m \u001b[32m196.1/196.1 kB\u001b[0m \u001b[31m7.9 MB/s\u001b[0m eta \u001b[36m0:00:00\u001b[0m\n",
      "\u001b[?25hDownloading idna-3.10-py3-none-any.whl (70 kB)\n",
      "\u001b[2K   \u001b[38;2;114;156;31m━━━━━━━━━━━━━━━━━━━━━━━━━━━━━━━━━━━━━━━━\u001b[0m \u001b[32m70.4/70.4 kB\u001b[0m \u001b[31m4.2 MB/s\u001b[0m eta \u001b[36m0:00:00\u001b[0m\n",
      "\u001b[?25hDownloading urllib3-2.4.0-py3-none-any.whl (128 kB)\n",
      "\u001b[2K   \u001b[38;2;114;156;31m━━━━━━━━━━━━━━━━━━━━━━━━━━━━━━━━━━━━━━━━\u001b[0m \u001b[32m128.7/128.7 kB\u001b[0m \u001b[31m7.4 MB/s\u001b[0m eta \u001b[36m0:00:00\u001b[0m\n",
      "\u001b[?25hInstalling collected packages: pytz, urllib3, tzdata, oauthlib, numpy, idna, charset-normalizer, certifi, requests, pandas, requests-oauthlib, tweepy\n",
      "Successfully installed certifi-2025.1.31 charset-normalizer-3.4.1 idna-3.10 numpy-2.2.5 oauthlib-3.2.2 pandas-2.2.3 pytz-2025.2 requests-2.32.3 requests-oauthlib-2.0.0 tweepy-4.15.0 tzdata-2025.2 urllib3-2.4.0\n",
      "\n",
      "\u001b[1m[\u001b[0m\u001b[34;49mnotice\u001b[0m\u001b[1;39;49m]\u001b[0m\u001b[39;49m A new release of pip is available: \u001b[0m\u001b[31;49m24.0\u001b[0m\u001b[39;49m -> \u001b[0m\u001b[32;49m25.0.1\u001b[0m\n",
      "\u001b[1m[\u001b[0m\u001b[34;49mnotice\u001b[0m\u001b[1;39;49m]\u001b[0m\u001b[39;49m To update, run: \u001b[0m\u001b[32;49mpip3.12 install --upgrade pip\u001b[0m\n"
     ]
    }
   ],
   "source": [
    "!/usr/local/bin/python3 -m pip install tweepy pandas"
   ]
  },
  {
   "cell_type": "code",
   "execution_count": 8,
   "id": "818dcc6f",
   "metadata": {},
   "outputs": [
    {
     "name": "stdout",
     "output_type": "stream",
     "text": [
      "tweepy imported successfully\n"
     ]
    }
   ],
   "source": [
    "import tweepy\n",
    "print(\"tweepy imported successfully\")"
   ]
  },
  {
   "cell_type": "code",
   "execution_count": 12,
   "id": "68f04f9f",
   "metadata": {
    "scrolled": true
   },
   "outputs": [
    {
     "name": "stdout",
     "output_type": "stream",
     "text": [
      "mv: rename /Users/gaoyue/Downloads/bitcoin-tweets.zip to /Users/gaoyue/w7/bitcoin_price_prediction_2023106041_YUE-GAO/data/bitcoin-tweets.zip: No such file or directory\r\n"
     ]
    }
   ],
   "source": [
    "mv ~/Downloads/bitcoin-tweets.zip /Users/gaoyue/w7/bitcoin_price_prediction_2023106041_YUE-GAO/data/"
   ]
  },
  {
   "cell_type": "code",
   "execution_count": 1,
   "id": "ff077e8f",
   "metadata": {},
   "outputs": [
    {
     "name": "stdout",
     "output_type": "stream",
     "text": [
      "Processed 1000 rows and saved to ../data/bitcoin_tweets_kaggle_cleaned.csv\n"
     ]
    }
   ],
   "source": [
    "import csv\n",
    "\n",
    "input_file = \"../data/bitcoin_tweets_kaggle.csv\"\n",
    "output_file = \"../data/bitcoin_tweets_kaggle_cleaned.csv\"\n",
    "\n",
    "# 打开文件，逐行读取\n",
    "with open(input_file, 'r', encoding='latin1') as infile, open(output_file, 'w', encoding='utf-8') as outfile:\n",
    "    reader = csv.reader(infile, lineterminator='\\n')\n",
    "    writer = csv.writer(outfile, lineterminator='\\n')\n",
    "    \n",
    "    # 写入表头\n",
    "    header = next(reader)  # 读取第一行（表头）\n",
    "    writer.writerow([\"date\", \"text\"])  # 只保留 date 和 text 列\n",
    "    \n",
    "    # 找到 date 和 text 列的索引\n",
    "    date_idx = header.index(\"date\")\n",
    "    text_idx = header.index(\"text\")\n",
    "    \n",
    "    # 逐行处理\n",
    "    count = 0\n",
    "    for row in reader:\n",
    "        try:\n",
    "            # 只提取 date 和 text 列\n",
    "            writer.writerow([row[date_idx], row[text_idx]])\n",
    "            count += 1\n",
    "            if count >= 1000:  # 只取 1000 条\n",
    "                break\n",
    "        except (IndexError, UnicodeDecodeError):\n",
    "            # 跳过无法解析的行\n",
    "            continue\n",
    "\n",
    "print(f\"Processed {count} rows and saved to {output_file}\")"
   ]
  },
  {
   "cell_type": "code",
   "execution_count": 2,
   "id": "20fb179c",
   "metadata": {},
   "outputs": [
    {
     "name": "stdout",
     "output_type": "stream",
     "text": [
      "Collected 1000 tweets from Kaggle dataset and saved to data/tweets.csv\n"
     ]
    }
   ],
   "source": [
    "import pandas as pd\n",
    "\n",
    "# 加载清理后的文件\n",
    "kaggle_tweets = pd.read_csv(\"../data/bitcoin_tweets_kaggle_cleaned.csv\")\n",
    "kaggle_tweets.rename(columns={\"date\": \"timestamp\"}, inplace=True)\n",
    "kaggle_tweets[\"language\"] = \"en\"  # 添加语言列\n",
    "tweets = kaggle_tweets.head(1000)  # 确保只取 1000 条\n",
    "\n",
    "# 保存到 CSV\n",
    "tweets.to_csv(\"../data/tweets.csv\", index=False)\n",
    "print(f\"Collected {len(tweets)} tweets from Kaggle dataset and saved to data/tweets.csv\")"
   ]
  },
  {
   "cell_type": "code",
   "execution_count": 3,
   "id": "ed263dff-f3f9-4028-862f-d8f6a0647cd2",
   "metadata": {},
   "outputs": [
    {
     "name": "stdout",
     "output_type": "stream",
     "text": [
      "Collecting praw\n",
      "  Using cached praw-7.8.1-py3-none-any.whl.metadata (9.4 kB)\n",
      "Collecting prawcore<3,>=2.4 (from praw)\n",
      "  Using cached prawcore-2.4.0-py3-none-any.whl.metadata (5.0 kB)\n",
      "Collecting update_checker>=0.18 (from praw)\n",
      "  Using cached update_checker-0.18.0-py3-none-any.whl.metadata (2.3 kB)\n",
      "Requirement already satisfied: websocket-client>=0.54.0 in /opt/homebrew/Cellar/jupyterlab/4.3.6/libexec/lib/python3.13/site-packages (from praw) (1.8.0)\n",
      "Requirement already satisfied: requests<3.0,>=2.6.0 in /opt/homebrew/Cellar/jupyterlab/4.3.6/libexec/lib/python3.13/site-packages (from prawcore<3,>=2.4->praw) (2.32.3)\n",
      "Requirement already satisfied: charset_normalizer<4,>=2 in /opt/homebrew/Cellar/jupyterlab/4.3.6/libexec/lib/python3.13/site-packages (from requests<3.0,>=2.6.0->prawcore<3,>=2.4->praw) (3.4.1)\n",
      "Requirement already satisfied: idna<4,>=2.5 in /opt/homebrew/Cellar/jupyterlab/4.3.6/libexec/lib/python3.13/site-packages (from requests<3.0,>=2.6.0->prawcore<3,>=2.4->praw) (3.10)\n",
      "Requirement already satisfied: urllib3<3,>=1.21.1 in /opt/homebrew/Cellar/jupyterlab/4.3.6/libexec/lib/python3.13/site-packages (from requests<3.0,>=2.6.0->prawcore<3,>=2.4->praw) (2.3.0)\n",
      "Requirement already satisfied: certifi>=2017.4.17 in /opt/homebrew/opt/certifi/lib/python3.13/site-packages (from requests<3.0,>=2.6.0->prawcore<3,>=2.4->praw) (2025.1.31)\n",
      "Using cached praw-7.8.1-py3-none-any.whl (189 kB)\n",
      "Using cached prawcore-2.4.0-py3-none-any.whl (17 kB)\n",
      "Using cached update_checker-0.18.0-py3-none-any.whl (7.0 kB)\n",
      "Installing collected packages: update_checker, prawcore, praw\n",
      "Successfully installed praw-7.8.1 prawcore-2.4.0 update_checker-0.18.0\n",
      "\n",
      "\u001b[1m[\u001b[0m\u001b[34;49mnotice\u001b[0m\u001b[1;39;49m]\u001b[0m\u001b[39;49m A new release of pip is available: \u001b[0m\u001b[31;49m25.0\u001b[0m\u001b[39;49m -> \u001b[0m\u001b[32;49m25.0.1\u001b[0m\n",
      "\u001b[1m[\u001b[0m\u001b[34;49mnotice\u001b[0m\u001b[1;39;49m]\u001b[0m\u001b[39;49m To update, run: \u001b[0m\u001b[32;49m/opt/homebrew/Cellar/jupyterlab/4.3.6/libexec/bin/python -m pip install --upgrade pip\u001b[0m\n",
      "Note: you may need to restart the kernel to use updated packages.\n"
     ]
    }
   ],
   "source": [
    "pip install praw"
   ]
  },
  {
   "cell_type": "code",
   "execution_count": 11,
   "id": "bb54c36d-2c4f-4e64-97e9-830f755426dc",
   "metadata": {
    "scrolled": true
   },
   "outputs": [
    {
     "name": "stdout",
     "output_type": "stream",
     "text": [
      "Requirement already satisfied: pandas in /opt/anaconda3/envs/aimath/lib/python3.11/site-packages (2.2.3)\n",
      "Requirement already satisfied: numpy>=1.23.2 in /opt/anaconda3/envs/aimath/lib/python3.11/site-packages (from pandas) (1.26.4)\n",
      "Requirement already satisfied: python-dateutil>=2.8.2 in /opt/anaconda3/envs/aimath/lib/python3.11/site-packages (from pandas) (2.9.0)\n",
      "Requirement already satisfied: pytz>=2020.1 in /opt/anaconda3/envs/aimath/lib/python3.11/site-packages (from pandas) (2024.1)\n",
      "Requirement already satisfied: tzdata>=2022.7 in /opt/anaconda3/envs/aimath/lib/python3.11/site-packages (from pandas) (2024.1)\n",
      "Requirement already satisfied: six>=1.5 in /opt/anaconda3/envs/aimath/lib/python3.11/site-packages (from python-dateutil>=2.8.2->pandas) (1.16.0)\n",
      "\n",
      "\u001b[1m[\u001b[0m\u001b[34;49mnotice\u001b[0m\u001b[1;39;49m]\u001b[0m\u001b[39;49m A new release of pip is available: \u001b[0m\u001b[31;49m24.3.1\u001b[0m\u001b[39;49m -> \u001b[0m\u001b[32;49m25.0.1\u001b[0m\n",
      "\u001b[1m[\u001b[0m\u001b[34;49mnotice\u001b[0m\u001b[1;39;49m]\u001b[0m\u001b[39;49m To update, run: \u001b[0m\u001b[32;49mpip install --upgrade pip\u001b[0m\n"
     ]
    }
   ],
   "source": [
    "!pip install pandas"
   ]
  },
  {
   "cell_type": "code",
   "execution_count": 2,
   "id": "522663d2-b954-40e4-98ca-ba21df6d94fd",
   "metadata": {},
   "outputs": [
    {
     "name": "stdout",
     "output_type": "stream",
     "text": [
      "Collected 100 Reddit posts and saved to data/reddit_posts.csv\n"
     ]
    }
   ],
   "source": [
    "import praw\n",
    "import pandas as pd\n",
    "from datetime import datetime\n",
    "\n",
    "# 初始化 Reddit API 客户端\n",
    "reddit = praw.Reddit(\n",
    "    client_id=\"1iggtu7LVAL8N2ff2zg3DA\",\n",
    "    client_secret=\"miXByiooBGMjOvWJnoFUyzGjMUYWrA\",\n",
    "    user_agent=\"BitcoinBot/0.1 by Bright-Complex1396\",\n",
    "    username=\"Bright-Complex1396\",\n",
    "    password=\"MyNewRedditPass123\"  # 使用新密码\n",
    ")\n",
    "\n",
    "# 采集 r/Bitcoin 子版块的帖子\n",
    "subreddit = reddit.subreddit(\"Bitcoin\")\n",
    "posts = []\n",
    "\n",
    "# 采集最新的 100 条帖子\n",
    "for submission in subreddit.new(limit=100):\n",
    "    posts.append({\n",
    "        \"timestamp\": datetime.fromtimestamp(submission.created_utc).strftime('%Y-%m-%d %H:%M:%S'),\n",
    "        \"text\": submission.title + \" \" + (submission.selftext if submission.selftext else \"\"),\n",
    "        \"language\": \"en\"\n",
    "    })\n",
    "\n",
    "# 转换为 DataFrame\n",
    "reddit_posts = pd.DataFrame(posts)\n",
    "\n",
    "# 保存到 CSV\n",
    "reddit_posts.to_csv(\"../data/reddit_posts.csv\", index=False)\n",
    "print(f\"Collected {len(reddit_posts)} Reddit posts and saved to data/reddit_posts.csv\")"
   ]
  },
  {
   "cell_type": "code",
   "execution_count": 3,
   "id": "f7e1c87a",
   "metadata": {},
   "outputs": [
    {
     "name": "stdout",
     "output_type": "stream",
     "text": [
      "/Users/gaoyue/w7/bitcoin_price_prediction_2023106041_YUE-GAO/data/reddit_posts.csv\r\n"
     ]
    }
   ],
   "source": [
    "ls /Users/gaoyue/w7/bitcoin_price_prediction_2023106041_YUE-GAO/data/reddit_posts.csv"
   ]
  },
  {
   "cell_type": "code",
   "execution_count": 6,
   "id": "3b6116ec",
   "metadata": {},
   "outputs": [
    {
     "name": "stdout",
     "output_type": "stream",
     "text": [
      "timestamp,text,language\r\n",
      "2025-04-21 15:26:27,\"Bitcoin to Gold Ratio The simplest way to get rich: sell gold, buy bitcoin.\",en\r\n",
      "2025-04-21 15:08:46,\"Daily Discussion, April 21, 2025 Please utilize this sticky thread for all general **Bitcoin** discussions! If you see posts on the front page or /r/Bitcoin/new which are better suited for this daily discussion thread, please help out by directing the OP to this thread instead. Thank you!\r\n",
      "\r\n",
      "If you don't get an answer to your question, you can try phrasing it differently or commenting again tomorrow.\r\n"
     ]
    }
   ],
   "source": [
    "!head -n 5 /Users/gaoyue/w7/bitcoin_price_prediction_2023106041_YUE-GAO/data/reddit_posts.csv"
   ]
  },
  {
   "cell_type": "code",
   "execution_count": 7,
   "id": "b6e1447c",
   "metadata": {},
   "outputs": [
    {
     "name": "stdout",
     "output_type": "stream",
     "text": [
      "Collected 100 news articles and saved to data/news_articles.csv\n"
     ]
    }
   ],
   "source": [
    "import requests\n",
    "import pandas as pd\n",
    "\n",
    "# NewsAPI 密钥\n",
    "api_key = \"232870d36c4c4d0883a0e466e70a611b\"  # 您的 NewsAPI 密钥\n",
    "\n",
    "# 请求 NewsAPI 数据\n",
    "url = \"https://newsapi.org/v2/everything\"\n",
    "params = {\n",
    "    \"q\": \"bitcoin\",  # 搜索关键词\n",
    "    \"language\": \"en\",  # 语言\n",
    "    \"sortBy\": \"publishedAt\",  # 按发布日期排序\n",
    "    \"apiKey\": api_key\n",
    "}\n",
    "\n",
    "response = requests.get(url, params=params)\n",
    "news_data = response.json()\n",
    "\n",
    "# 提取文章\n",
    "articles = []\n",
    "for article in news_data[\"articles\"][:100]:  # 取前 100 条\n",
    "    articles.append({\n",
    "        \"timestamp\": article[\"publishedAt\"],\n",
    "        \"text\": article[\"title\"] + \" \" + (article[\"description\"] if article[\"description\"] else \"\"),\n",
    "        \"language\": \"en\"\n",
    "    })\n",
    "\n",
    "# 转换为 DataFrame\n",
    "news_articles = pd.DataFrame(articles)\n",
    "\n",
    "# 保存到 CSV\n",
    "news_articles.to_csv(\"../data/news_articles.csv\", index=False)\n",
    "print(f\"Collected {len(news_articles)} news articles and saved to data/news_articles.csv\")"
   ]
  },
  {
   "cell_type": "code",
   "execution_count": 8,
   "id": "1ea14764",
   "metadata": {
    "scrolled": true
   },
   "outputs": [
    {
     "data": {
      "text/html": [
       "<div>\n",
       "<style scoped>\n",
       "    .dataframe tbody tr th:only-of-type {\n",
       "        vertical-align: middle;\n",
       "    }\n",
       "\n",
       "    .dataframe tbody tr th {\n",
       "        vertical-align: top;\n",
       "    }\n",
       "\n",
       "    .dataframe thead th {\n",
       "        text-align: right;\n",
       "    }\n",
       "</style>\n",
       "<table border=\"1\" class=\"dataframe\">\n",
       "  <thead>\n",
       "    <tr style=\"text-align: right;\">\n",
       "      <th></th>\n",
       "      <th>timestamp</th>\n",
       "      <th>text</th>\n",
       "      <th>language</th>\n",
       "    </tr>\n",
       "  </thead>\n",
       "  <tbody>\n",
       "    <tr>\n",
       "      <th>0</th>\n",
       "      <td>2025-04-20T06:35:57Z</td>\n",
       "      <td>Boeing jet returns to US from China, a victim ...</td>\n",
       "      <td>en</td>\n",
       "    </tr>\n",
       "    <tr>\n",
       "      <th>1</th>\n",
       "      <td>2025-04-20T06:25:09Z</td>\n",
       "      <td>Bitcoin: With 2,106 whale wallets and counting...</td>\n",
       "      <td>en</td>\n",
       "    </tr>\n",
       "    <tr>\n",
       "      <th>2</th>\n",
       "      <td>2025-04-20T06:16:50Z</td>\n",
       "      <td>Short Interest in Valkyrie Bitcoin Miners ETF ...</td>\n",
       "      <td>en</td>\n",
       "    </tr>\n",
       "    <tr>\n",
       "      <th>3</th>\n",
       "      <td>2025-04-20T06:02:56Z</td>\n",
       "      <td>Hut 8 Corp. (TSE:HUT) Receives Consensus Recom...</td>\n",
       "      <td>en</td>\n",
       "    </tr>\n",
       "    <tr>\n",
       "      <th>4</th>\n",
       "      <td>2025-04-20T05:00:34Z</td>\n",
       "      <td>Public-private collaboration is shaping Pakist...</td>\n",
       "      <td>en</td>\n",
       "    </tr>\n",
       "  </tbody>\n",
       "</table>\n",
       "</div>"
      ],
      "text/plain": [
       "              timestamp                                               text  \\\n",
       "0  2025-04-20T06:35:57Z  Boeing jet returns to US from China, a victim ...   \n",
       "1  2025-04-20T06:25:09Z  Bitcoin: With 2,106 whale wallets and counting...   \n",
       "2  2025-04-20T06:16:50Z  Short Interest in Valkyrie Bitcoin Miners ETF ...   \n",
       "3  2025-04-20T06:02:56Z  Hut 8 Corp. (TSE:HUT) Receives Consensus Recom...   \n",
       "4  2025-04-20T05:00:34Z  Public-private collaboration is shaping Pakist...   \n",
       "\n",
       "  language  \n",
       "0       en  \n",
       "1       en  \n",
       "2       en  \n",
       "3       en  \n",
       "4       en  "
      ]
     },
     "execution_count": 8,
     "metadata": {},
     "output_type": "execute_result"
    }
   ],
   "source": [
    "# 方法 1：使用 Python 查看前 5 行\n",
    "import pandas as pd\n",
    "\n",
    "news_data = pd.read_csv(\"../data/news_articles.csv\")\n",
    "news_data.head(5)"
   ]
  },
  {
   "cell_type": "code",
   "execution_count": 9,
   "id": "47b7039c",
   "metadata": {},
   "outputs": [
    {
     "name": "stdout",
     "output_type": "stream",
     "text": [
      "timestamp,text,language\r\n",
      "2025-04-20T06:35:57Z,\"Boeing jet returns to US from China, a victim of Trump’s tariff war By Reuters \",en\r\n",
      "2025-04-20T06:25:09Z,\"Bitcoin: With 2,106 whale wallets and counting, BTC’s big buyers are back! What now? BTC sees a shift in market sentiment, with vote up or down turning green for the first time in four months.\r\n",
      "- Bitcoin whales are back in the market, with whale addresses hitting a 2025 high of 2106.\r\n",
      "Over the past months, Bitcoin [BTC] has experienced extreme …\",en\r\n"
     ]
    }
   ],
   "source": [
    "!head -n 5 /Users/gaoyue/w7/bitcoin_price_prediction_2023106041_YUE-GAO/data/news_articles.csv"
   ]
  },
  {
   "cell_type": "code",
   "execution_count": 10,
   "id": "4d67b329",
   "metadata": {},
   "outputs": [
    {
     "name": "stdout",
     "output_type": "stream",
     "text": [
      "Twitter Data Missing Values:\n",
      "timestamp    0\n",
      "text         0\n",
      "language     0\n",
      "dtype: int64\n",
      "\n",
      "Reddit Data Missing Values:\n",
      "timestamp    0\n",
      "text         0\n",
      "language     0\n",
      "dtype: int64\n",
      "\n",
      "News Data Missing Values:\n",
      "timestamp    0\n",
      "text         0\n",
      "language     0\n",
      "dtype: int64\n"
     ]
    }
   ],
   "source": [
    "import pandas as pd\n",
    "\n",
    "# 读取数据\n",
    "reddit_data = pd.read_csv(\"../data/reddit_posts.csv\")\n",
    "news_data = pd.read_csv(\"../data/news_articles.csv\")\n",
    "twitter_data = pd.read_csv(\"../data/tweets.csv\")\n",
    "\n",
    "# 检查缺失值\n",
    "print(\"Twitter Data Missing Values:\")\n",
    "print(twitter_data.isnull().sum())\n",
    "print(\"\\nReddit Data Missing Values:\")\n",
    "print(reddit_data.isnull().sum())\n",
    "print(\"\\nNews Data Missing Values:\")\n",
    "print(news_data.isnull().sum())\n",
    "\n",
    "# 删除缺失值\n",
    "twitter_data = twitter_data.dropna()\n",
    "reddit_data = reddit_data.dropna()\n",
    "news_data = news_data.dropna()\n",
    "\n",
    "# 保存清理后的数据\n",
    "twitter_data.to_csv(\"../data/tweets_cleaned.csv\", index=False)\n",
    "reddit_data.to_csv(\"../data/reddit_posts_cleaned.csv\", index=False)\n",
    "news_data.to_csv(\"../data/news_articles_cleaned.csv\", index=False)"
   ]
  },
  {
   "cell_type": "code",
   "execution_count": 21,
   "id": "6453c63d",
   "metadata": {},
   "outputs": [
    {
     "name": "stdout",
     "output_type": "stream",
     "text": [
      "Requirement already satisfied: textblob in /opt/anaconda3/envs/aimath/lib/python3.11/site-packages (0.19.0)\n",
      "Requirement already satisfied: nltk>=3.9 in /opt/anaconda3/envs/aimath/lib/python3.11/site-packages (from textblob) (3.9.1)\n",
      "Requirement already satisfied: click in /opt/anaconda3/envs/aimath/lib/python3.11/site-packages (from nltk>=3.9->textblob) (8.1.7)\n",
      "Requirement already satisfied: joblib in /opt/anaconda3/envs/aimath/lib/python3.11/site-packages (from nltk>=3.9->textblob) (1.4.2)\n",
      "Requirement already satisfied: regex>=2021.8.3 in /opt/anaconda3/envs/aimath/lib/python3.11/site-packages (from nltk>=3.9->textblob) (2024.11.6)\n",
      "Requirement already satisfied: tqdm in /opt/anaconda3/envs/aimath/lib/python3.11/site-packages (from nltk>=3.9->textblob) (4.66.2)\n",
      "\n",
      "\u001b[1m[\u001b[0m\u001b[34;49mnotice\u001b[0m\u001b[1;39;49m]\u001b[0m\u001b[39;49m A new release of pip is available: \u001b[0m\u001b[31;49m24.3.1\u001b[0m\u001b[39;49m -> \u001b[0m\u001b[32;49m25.0.1\u001b[0m\n",
      "\u001b[1m[\u001b[0m\u001b[34;49mnotice\u001b[0m\u001b[1;39;49m]\u001b[0m\u001b[39;49m To update, run: \u001b[0m\u001b[32;49mpip install --upgrade pip\u001b[0m\n"
     ]
    }
   ],
   "source": [
    "!pip install textblob"
   ]
  },
  {
   "cell_type": "code",
   "execution_count": 23,
   "id": "be3dcc16",
   "metadata": {},
   "outputs": [
    {
     "name": "stdout",
     "output_type": "stream",
     "text": [
      "/opt/anaconda3/bin/python\n"
     ]
    }
   ],
   "source": [
    "import sys\n",
    "print(sys.executable)"
   ]
  },
  {
   "cell_type": "code",
   "execution_count": 2,
   "id": "83c4bee9",
   "metadata": {},
   "outputs": [
    {
     "name": "stdout",
     "output_type": "stream",
     "text": [
      "0.625\n"
     ]
    }
   ],
   "source": [
    "from textblob import TextBlob\n",
    "\n",
    "# 测试 TextBlob 是否可用\n",
    "text = \"I love Bitcoin!\"\n",
    "blob = TextBlob(text)\n",
    "print(blob.sentiment.polarity)"
   ]
  },
  {
   "cell_type": "code",
   "execution_count": 3,
   "id": "f117832f",
   "metadata": {},
   "outputs": [
    {
     "name": "stdout",
     "output_type": "stream",
     "text": [
      "Name: textblob\r\n",
      "Version: 0.19.0\r\n",
      "Summary: Simple, Pythonic text processing. Sentiment analysis, part-of-speech tagging, noun phrase parsing, and more.\r\n",
      "Home-page: \r\n",
      "Author: \r\n",
      "Author-email: Steven Loria <sloria1@gmail.com>\r\n",
      "License: \r\n",
      "Location: /opt/anaconda3/envs/aimath/lib/python3.11/site-packages\r\n",
      "Requires: nltk\r\n",
      "Required-by: \r\n"
     ]
    }
   ],
   "source": [
    "# 在 Jupyter Notebook 中运行\n",
    "!pip show textblob"
   ]
  },
  {
   "cell_type": "code",
   "execution_count": 4,
   "id": "f9570e13",
   "metadata": {},
   "outputs": [
    {
     "name": "stdout",
     "output_type": "stream",
     "text": [
      "加载数据中...\n",
      "Twitter 数据: 1000 条\n",
      "Reddit 数据: 100 条\n",
      "News 数据: 100 条\n"
     ]
    }
   ],
   "source": [
    "import pandas as pd\n",
    "from textblob import TextBlob\n",
    "\n",
    "# 读取数据\n",
    "print(\"加载数据中...\")\n",
    "twitter_data = pd.read_csv(\"../data/tweets.csv\")\n",
    "reddit_data = pd.read_csv(\"../data/reddit_posts.csv\")\n",
    "news_data = pd.read_csv(\"../data/news_articles.csv\")\n",
    "\n",
    "# 显示数据行数\n",
    "print(f\"Twitter 数据: {len(twitter_data)} 条\")\n",
    "print(f\"Reddit 数据: {len(reddit_data)} 条\")\n",
    "print(f\"News 数据: {len(news_data)} 条\")"
   ]
  },
  {
   "cell_type": "code",
   "execution_count": 5,
   "id": "c4149858",
   "metadata": {},
   "outputs": [
    {
     "name": "stdout",
     "output_type": "stream",
     "text": [
      "正在分析 Twitter 数据情感...\n",
      "\n",
      "Twitter 数据情感分析结果（前 5 行）：\n"
     ]
    },
    {
     "data": {
      "text/html": [
       "<div>\n",
       "<style scoped>\n",
       "    .dataframe tbody tr th:only-of-type {\n",
       "        vertical-align: middle;\n",
       "    }\n",
       "\n",
       "    .dataframe tbody tr th {\n",
       "        vertical-align: top;\n",
       "    }\n",
       "\n",
       "    .dataframe thead th {\n",
       "        text-align: right;\n",
       "    }\n",
       "</style>\n",
       "<table border=\"1\" class=\"dataframe\">\n",
       "  <thead>\n",
       "    <tr style=\"text-align: right;\">\n",
       "      <th></th>\n",
       "      <th>text</th>\n",
       "      <th>sentiment</th>\n",
       "    </tr>\n",
       "  </thead>\n",
       "  <tbody>\n",
       "    <tr>\n",
       "      <th>0</th>\n",
       "      <td>Which #bitcoin books should I think about read...</td>\n",
       "      <td>0.000000</td>\n",
       "    </tr>\n",
       "    <tr>\n",
       "      <th>1</th>\n",
       "      <td>@ThankGodForBTC I appreciate the message, but ...</td>\n",
       "      <td>0.000000</td>\n",
       "    </tr>\n",
       "    <tr>\n",
       "      <th>2</th>\n",
       "      <td>#Ethereum price update: \\n\\n#ETH $1664.02 USD\\...</td>\n",
       "      <td>0.000000</td>\n",
       "    </tr>\n",
       "    <tr>\n",
       "      <th>3</th>\n",
       "      <td>CoinDashboard v3.0 is here\\nAvailable on ios a...</td>\n",
       "      <td>0.400000</td>\n",
       "    </tr>\n",
       "    <tr>\n",
       "      <th>4</th>\n",
       "      <td>#Bitcoin Short Term Fractal (4H)ð¥\\n\\nIn low...</td>\n",
       "      <td>0.033333</td>\n",
       "    </tr>\n",
       "  </tbody>\n",
       "</table>\n",
       "</div>"
      ],
      "text/plain": [
       "                                                text  sentiment\n",
       "0  Which #bitcoin books should I think about read...   0.000000\n",
       "1  @ThankGodForBTC I appreciate the message, but ...   0.000000\n",
       "2  #Ethereum price update: \\n\\n#ETH $1664.02 USD\\...   0.000000\n",
       "3  CoinDashboard v3.0 is here\\nAvailable on ios a...   0.400000\n",
       "4  #Bitcoin Short Term Fractal (4H)ð¥\\n\\nIn low...   0.033333"
      ]
     },
     "metadata": {},
     "output_type": "display_data"
    }
   ],
   "source": [
    "# 对 Twitter 数据进行情感分析\n",
    "print(\"正在分析 Twitter 数据情感...\")\n",
    "twitter_data[\"sentiment\"] = twitter_data[\"text\"].apply(lambda x: TextBlob(x).sentiment.polarity)\n",
    "\n",
    "# 显示前 5 行\n",
    "print(\"\\nTwitter 数据情感分析结果（前 5 行）：\")\n",
    "display(twitter_data[[\"text\", \"sentiment\"]].head())"
   ]
  },
  {
   "cell_type": "code",
   "execution_count": 6,
   "id": "1616f8f9",
   "metadata": {},
   "outputs": [
    {
     "name": "stdout",
     "output_type": "stream",
     "text": [
      "正在分析 Reddit 数据情感...\n",
      "\n",
      "Reddit 数据情感分析结果（前 5 行）：\n"
     ]
    },
    {
     "data": {
      "text/html": [
       "<div>\n",
       "<style scoped>\n",
       "    .dataframe tbody tr th:only-of-type {\n",
       "        vertical-align: middle;\n",
       "    }\n",
       "\n",
       "    .dataframe tbody tr th {\n",
       "        vertical-align: top;\n",
       "    }\n",
       "\n",
       "    .dataframe thead th {\n",
       "        text-align: right;\n",
       "    }\n",
       "</style>\n",
       "<table border=\"1\" class=\"dataframe\">\n",
       "  <thead>\n",
       "    <tr style=\"text-align: right;\">\n",
       "      <th></th>\n",
       "      <th>text</th>\n",
       "      <th>sentiment</th>\n",
       "    </tr>\n",
       "  </thead>\n",
       "  <tbody>\n",
       "    <tr>\n",
       "      <th>0</th>\n",
       "      <td>Bitcoin to Gold Ratio The simplest way to get ...</td>\n",
       "      <td>0.375000</td>\n",
       "    </tr>\n",
       "    <tr>\n",
       "      <th>1</th>\n",
       "      <td>Daily Discussion, April 21, 2025 Please utiliz...</td>\n",
       "      <td>0.042262</td>\n",
       "    </tr>\n",
       "    <tr>\n",
       "      <th>2</th>\n",
       "      <td>$88,000 going one ☝️ going twice BTC adj Khali...</td>\n",
       "      <td>0.000000</td>\n",
       "    </tr>\n",
       "    <tr>\n",
       "      <th>3</th>\n",
       "      <td>🟠 Jeff Booth explains that once you really und...</td>\n",
       "      <td>-0.025000</td>\n",
       "    </tr>\n",
       "    <tr>\n",
       "      <th>4</th>\n",
       "      <td>Is there anyone who suddenly locked up the Wee...</td>\n",
       "      <td>0.400000</td>\n",
       "    </tr>\n",
       "  </tbody>\n",
       "</table>\n",
       "</div>"
      ],
      "text/plain": [
       "                                                text  sentiment\n",
       "0  Bitcoin to Gold Ratio The simplest way to get ...   0.375000\n",
       "1  Daily Discussion, April 21, 2025 Please utiliz...   0.042262\n",
       "2  $88,000 going one ☝️ going twice BTC adj Khali...   0.000000\n",
       "3  🟠 Jeff Booth explains that once you really und...  -0.025000\n",
       "4  Is there anyone who suddenly locked up the Wee...   0.400000"
      ]
     },
     "metadata": {},
     "output_type": "display_data"
    }
   ],
   "source": [
    "# 对 Reddit 数据进行情感分析\n",
    "print(\"正在分析 Reddit 数据情感...\")\n",
    "reddit_data[\"sentiment\"] = reddit_data[\"text\"].apply(lambda x: TextBlob(x).sentiment.polarity)\n",
    "\n",
    "# 显示前 5 行\n",
    "print(\"\\nReddit 数据情感分析结果（前 5 行）：\")\n",
    "display(reddit_data[[\"text\", \"sentiment\"]].head())"
   ]
  },
  {
   "cell_type": "code",
   "execution_count": 7,
   "id": "ba8dedaa",
   "metadata": {},
   "outputs": [
    {
     "name": "stdout",
     "output_type": "stream",
     "text": [
      "正在分析 News 数据情感...\n",
      "\n",
      "News 数据情感分析结果（前 5 行）：\n"
     ]
    },
    {
     "data": {
      "text/html": [
       "<div>\n",
       "<style scoped>\n",
       "    .dataframe tbody tr th:only-of-type {\n",
       "        vertical-align: middle;\n",
       "    }\n",
       "\n",
       "    .dataframe tbody tr th {\n",
       "        vertical-align: top;\n",
       "    }\n",
       "\n",
       "    .dataframe thead th {\n",
       "        text-align: right;\n",
       "    }\n",
       "</style>\n",
       "<table border=\"1\" class=\"dataframe\">\n",
       "  <thead>\n",
       "    <tr style=\"text-align: right;\">\n",
       "      <th></th>\n",
       "      <th>text</th>\n",
       "      <th>sentiment</th>\n",
       "    </tr>\n",
       "  </thead>\n",
       "  <tbody>\n",
       "    <tr>\n",
       "      <th>0</th>\n",
       "      <td>Boeing jet returns to US from China, a victim ...</td>\n",
       "      <td>-0.075000</td>\n",
       "    </tr>\n",
       "    <tr>\n",
       "      <th>1</th>\n",
       "      <td>Bitcoin: With 2,106 whale wallets and counting...</td>\n",
       "      <td>0.047944</td>\n",
       "    </tr>\n",
       "    <tr>\n",
       "      <th>2</th>\n",
       "      <td>Short Interest in Valkyrie Bitcoin Miners ETF ...</td>\n",
       "      <td>0.102381</td>\n",
       "    </tr>\n",
       "    <tr>\n",
       "      <th>3</th>\n",
       "      <td>Hut 8 Corp. (TSE:HUT) Receives Consensus Recom...</td>\n",
       "      <td>0.425000</td>\n",
       "    </tr>\n",
       "    <tr>\n",
       "      <th>4</th>\n",
       "      <td>Public-private collaboration is shaping Pakist...</td>\n",
       "      <td>0.000000</td>\n",
       "    </tr>\n",
       "  </tbody>\n",
       "</table>\n",
       "</div>"
      ],
      "text/plain": [
       "                                                text  sentiment\n",
       "0  Boeing jet returns to US from China, a victim ...  -0.075000\n",
       "1  Bitcoin: With 2,106 whale wallets and counting...   0.047944\n",
       "2  Short Interest in Valkyrie Bitcoin Miners ETF ...   0.102381\n",
       "3  Hut 8 Corp. (TSE:HUT) Receives Consensus Recom...   0.425000\n",
       "4  Public-private collaboration is shaping Pakist...   0.000000"
      ]
     },
     "metadata": {},
     "output_type": "display_data"
    }
   ],
   "source": [
    "# 对 News 数据进行情感分析\n",
    "print(\"正在分析 News 数据情感...\")\n",
    "news_data[\"sentiment\"] = news_data[\"text\"].apply(lambda x: TextBlob(x).sentiment.polarity)\n",
    "\n",
    "# 显示前 5 行\n",
    "print(\"\\nNews 数据情感分析结果（前 5 行）：\")\n",
    "display(news_data[[\"text\", \"sentiment\"]].head())"
   ]
  },
  {
   "cell_type": "code",
   "execution_count": 8,
   "id": "7804c5cb",
   "metadata": {},
   "outputs": [
    {
     "name": "stdout",
     "output_type": "stream",
     "text": [
      "正在保存情感分析结果...\n",
      "\n",
      "生成的文件：\n",
      "bitcoin_tweets_kaggle.csv         reddit_posts_cleaned.csv\n",
      "bitcoin_tweets_kaggle_cleaned.csv reddit_posts_with_sentiment.csv\n",
      "news_articles.csv                 tweets.csv\n",
      "news_articles_cleaned.csv         tweets_cleaned.csv\n",
      "news_articles_with_sentiment.csv  tweets_with_sentiment.csv\n",
      "reddit_posts.csv\n"
     ]
    }
   ],
   "source": [
    "# 保存带情感分析结果的数据\n",
    "print(\"正在保存情感分析结果...\")\n",
    "twitter_data.to_csv(\"../data/tweets_with_sentiment.csv\", index=False)\n",
    "reddit_data.to_csv(\"../data/reddit_posts_with_sentiment.csv\", index=False)\n",
    "news_data.to_csv(\"../data/news_articles_with_sentiment.csv\", index=False)\n",
    "\n",
    "# 验证文件是否生成\n",
    "print(\"\\n生成的文件：\")\n",
    "!ls ../data/"
   ]
  },
  {
   "cell_type": "code",
   "execution_count": 9,
   "id": "a69c17c0",
   "metadata": {},
   "outputs": [
    {
     "data": {
      "text/html": [
       "<div>\n",
       "<style scoped>\n",
       "    .dataframe tbody tr th:only-of-type {\n",
       "        vertical-align: middle;\n",
       "    }\n",
       "\n",
       "    .dataframe tbody tr th {\n",
       "        vertical-align: top;\n",
       "    }\n",
       "\n",
       "    .dataframe thead th {\n",
       "        text-align: right;\n",
       "    }\n",
       "</style>\n",
       "<table border=\"1\" class=\"dataframe\">\n",
       "  <thead>\n",
       "    <tr style=\"text-align: right;\">\n",
       "      <th></th>\n",
       "      <th>timestamp</th>\n",
       "      <th>text</th>\n",
       "      <th>language</th>\n",
       "      <th>sentiment</th>\n",
       "    </tr>\n",
       "  </thead>\n",
       "  <tbody>\n",
       "    <tr>\n",
       "      <th>0</th>\n",
       "      <td>2025-04-21 15:26:27</td>\n",
       "      <td>Bitcoin to Gold Ratio The simplest way to get ...</td>\n",
       "      <td>en</td>\n",
       "      <td>0.375000</td>\n",
       "    </tr>\n",
       "    <tr>\n",
       "      <th>1</th>\n",
       "      <td>2025-04-21 15:08:46</td>\n",
       "      <td>Daily Discussion, April 21, 2025 Please utiliz...</td>\n",
       "      <td>en</td>\n",
       "      <td>0.042262</td>\n",
       "    </tr>\n",
       "    <tr>\n",
       "      <th>2</th>\n",
       "      <td>2025-04-21 14:53:01</td>\n",
       "      <td>$88,000 going one ☝️ going twice BTC adj Khali...</td>\n",
       "      <td>en</td>\n",
       "      <td>0.000000</td>\n",
       "    </tr>\n",
       "    <tr>\n",
       "      <th>3</th>\n",
       "      <td>2025-04-21 14:41:47</td>\n",
       "      <td>🟠 Jeff Booth explains that once you really und...</td>\n",
       "      <td>en</td>\n",
       "      <td>-0.025000</td>\n",
       "    </tr>\n",
       "    <tr>\n",
       "      <th>4</th>\n",
       "      <td>2025-04-21 13:59:01</td>\n",
       "      <td>Is there anyone who suddenly locked up the Wee...</td>\n",
       "      <td>en</td>\n",
       "      <td>0.400000</td>\n",
       "    </tr>\n",
       "  </tbody>\n",
       "</table>\n",
       "</div>"
      ],
      "text/plain": [
       "             timestamp                                               text  \\\n",
       "0  2025-04-21 15:26:27  Bitcoin to Gold Ratio The simplest way to get ...   \n",
       "1  2025-04-21 15:08:46  Daily Discussion, April 21, 2025 Please utiliz...   \n",
       "2  2025-04-21 14:53:01  $88,000 going one ☝️ going twice BTC adj Khali...   \n",
       "3  2025-04-21 14:41:47  🟠 Jeff Booth explains that once you really und...   \n",
       "4  2025-04-21 13:59:01  Is there anyone who suddenly locked up the Wee...   \n",
       "\n",
       "  language  sentiment  \n",
       "0       en   0.375000  \n",
       "1       en   0.042262  \n",
       "2       en   0.000000  \n",
       "3       en  -0.025000  \n",
       "4       en   0.400000  "
      ]
     },
     "metadata": {},
     "output_type": "display_data"
    }
   ],
   "source": [
    "reddit_sentiment_data = pd.read_csv(\"../data/reddit_posts_with_sentiment.csv\")\n",
    "display(reddit_sentiment_data.head(5))"
   ]
  },
  {
   "cell_type": "code",
   "execution_count": 10,
   "id": "d5ff1c25",
   "metadata": {},
   "outputs": [
    {
     "name": "stdout",
     "output_type": "stream",
     "text": [
      "Collecting yfinance\n",
      "  Downloading yfinance-0.2.55-py2.py3-none-any.whl.metadata (5.8 kB)\n",
      "Requirement already satisfied: pandas>=1.3.0 in /opt/anaconda3/envs/aimath/lib/python3.11/site-packages (from yfinance) (2.2.3)\n",
      "Requirement already satisfied: numpy>=1.16.5 in /opt/anaconda3/envs/aimath/lib/python3.11/site-packages (from yfinance) (1.26.4)\n",
      "Requirement already satisfied: requests>=2.31 in /opt/anaconda3/envs/aimath/lib/python3.11/site-packages (from yfinance) (2.31.0)\n",
      "Collecting multitasking>=0.0.7 (from yfinance)\n",
      "  Downloading multitasking-0.0.11-py3-none-any.whl.metadata (5.5 kB)\n",
      "Requirement already satisfied: platformdirs>=2.0.0 in /opt/anaconda3/envs/aimath/lib/python3.11/site-packages (from yfinance) (4.2.0)\n",
      "Requirement already satisfied: pytz>=2022.5 in /opt/anaconda3/envs/aimath/lib/python3.11/site-packages (from yfinance) (2024.1)\n",
      "Collecting frozendict>=2.3.4 (from yfinance)\n",
      "  Downloading frozendict-2.4.6-py311-none-any.whl.metadata (23 kB)\n",
      "Collecting peewee>=3.16.2 (from yfinance)\n",
      "  Downloading peewee-3.17.9.tar.gz (3.0 MB)\n",
      "\u001b[2K     \u001b[38;2;114;156;31m━━━━━━━━━━━━━━━━━━━━━━━━━━━━━━━━━━━━━━━━\u001b[0m \u001b[32m3.0/3.0 MB\u001b[0m \u001b[31m3.0 MB/s\u001b[0m eta \u001b[36m0:00:00\u001b[0m MB/s\u001b[0m eta \u001b[36m0:00:01\u001b[0m:01\u001b[0m\n",
      "\u001b[?25h  Installing build dependencies ... \u001b[?25ldone\n",
      "\u001b[?25h  Getting requirements to build wheel ... \u001b[?25ldone\n",
      "\u001b[?25h  Preparing metadata (pyproject.toml) ... \u001b[?25ldone\n",
      "\u001b[?25hRequirement already satisfied: beautifulsoup4>=4.11.1 in /opt/anaconda3/envs/aimath/lib/python3.11/site-packages (from yfinance) (4.12.3)\n",
      "Requirement already satisfied: soupsieve>1.2 in /opt/anaconda3/envs/aimath/lib/python3.11/site-packages (from beautifulsoup4>=4.11.1->yfinance) (2.6)\n",
      "Requirement already satisfied: python-dateutil>=2.8.2 in /opt/anaconda3/envs/aimath/lib/python3.11/site-packages (from pandas>=1.3.0->yfinance) (2.9.0)\n",
      "Requirement already satisfied: tzdata>=2022.7 in /opt/anaconda3/envs/aimath/lib/python3.11/site-packages (from pandas>=1.3.0->yfinance) (2024.1)\n",
      "Requirement already satisfied: charset-normalizer<4,>=2 in /opt/anaconda3/envs/aimath/lib/python3.11/site-packages (from requests>=2.31->yfinance) (2.0.4)\n",
      "Requirement already satisfied: idna<4,>=2.5 in /opt/anaconda3/envs/aimath/lib/python3.11/site-packages (from requests>=2.31->yfinance) (3.4)\n",
      "Requirement already satisfied: urllib3<3,>=1.21.1 in /opt/anaconda3/envs/aimath/lib/python3.11/site-packages (from requests>=2.31->yfinance) (2.1.0)\n",
      "Requirement already satisfied: certifi>=2017.4.17 in /opt/anaconda3/envs/aimath/lib/python3.11/site-packages (from requests>=2.31->yfinance) (2025.1.31)\n",
      "Requirement already satisfied: six>=1.5 in /opt/anaconda3/envs/aimath/lib/python3.11/site-packages (from python-dateutil>=2.8.2->pandas>=1.3.0->yfinance) (1.16.0)\n",
      "Downloading yfinance-0.2.55-py2.py3-none-any.whl (109 kB)\n",
      "Downloading frozendict-2.4.6-py311-none-any.whl (16 kB)\n",
      "Downloading multitasking-0.0.11-py3-none-any.whl (8.5 kB)\n",
      "Building wheels for collected packages: peewee\n",
      "  Building wheel for peewee (pyproject.toml) ... \u001b[?25ldone\n",
      "\u001b[?25h  Created wheel for peewee: filename=peewee-3.17.9-cp311-cp311-macosx_11_0_arm64.whl size=264471 sha256=dea18595b47b7ce060cef0a2c5f58ec17f7709749e580233d60a340d054f39fe\n",
      "  Stored in directory: /Users/gaoyue/Library/Caches/pip/wheels/f4/14/e4/50c88c865833085aeb91e2bd40e3a683ff434806386b8ee7bc\n",
      "Successfully built peewee\n",
      "Installing collected packages: peewee, multitasking, frozendict, yfinance\n",
      "Successfully installed frozendict-2.4.6 multitasking-0.0.11 peewee-3.17.9 yfinance-0.2.55\n",
      "\n",
      "\u001b[1m[\u001b[0m\u001b[34;49mnotice\u001b[0m\u001b[1;39;49m]\u001b[0m\u001b[39;49m A new release of pip is available: \u001b[0m\u001b[31;49m24.3.1\u001b[0m\u001b[39;49m -> \u001b[0m\u001b[32;49m25.0.1\u001b[0m\n",
      "\u001b[1m[\u001b[0m\u001b[34;49mnotice\u001b[0m\u001b[1;39;49m]\u001b[0m\u001b[39;49m To update, run: \u001b[0m\u001b[32;49mpip install --upgrade pip\u001b[0m\n"
     ]
    }
   ],
   "source": [
    "!pip install yfinance"
   ]
  },
  {
   "cell_type": "code",
   "execution_count": 11,
   "id": "7cb73e6d",
   "metadata": {},
   "outputs": [
    {
     "name": "stdout",
     "output_type": "stream",
     "text": [
      "正在获取 Bitcoin 价格数据...\n",
      "YF.download() has changed argument auto_adjust default to True\n"
     ]
    },
    {
     "name": "stderr",
     "output_type": "stream",
     "text": [
      "\r",
      "[*********************100%***********************]  1 of 1 completed"
     ]
    },
    {
     "name": "stdout",
     "output_type": "stream",
     "text": [
      "Bitcoin 价格数据已保存到 btc_prices.csv\n"
     ]
    },
    {
     "name": "stderr",
     "output_type": "stream",
     "text": [
      "\n"
     ]
    },
    {
     "data": {
      "text/html": [
       "<div>\n",
       "<style scoped>\n",
       "    .dataframe tbody tr th:only-of-type {\n",
       "        vertical-align: middle;\n",
       "    }\n",
       "\n",
       "    .dataframe tbody tr th {\n",
       "        vertical-align: top;\n",
       "    }\n",
       "\n",
       "    .dataframe thead tr th {\n",
       "        text-align: left;\n",
       "    }\n",
       "</style>\n",
       "<table border=\"1\" class=\"dataframe\">\n",
       "  <thead>\n",
       "    <tr>\n",
       "      <th>Price</th>\n",
       "      <th>Date</th>\n",
       "      <th>Close</th>\n",
       "      <th>High</th>\n",
       "      <th>Low</th>\n",
       "      <th>Open</th>\n",
       "      <th>Volume</th>\n",
       "      <th>timestamp</th>\n",
       "    </tr>\n",
       "    <tr>\n",
       "      <th>Ticker</th>\n",
       "      <th></th>\n",
       "      <th>BTC-USD</th>\n",
       "      <th>BTC-USD</th>\n",
       "      <th>BTC-USD</th>\n",
       "      <th>BTC-USD</th>\n",
       "      <th>BTC-USD</th>\n",
       "      <th></th>\n",
       "    </tr>\n",
       "  </thead>\n",
       "  <tbody>\n",
       "    <tr>\n",
       "      <th>0</th>\n",
       "      <td>2023-01-01</td>\n",
       "      <td>16625.080078</td>\n",
       "      <td>16630.439453</td>\n",
       "      <td>16521.234375</td>\n",
       "      <td>16547.914062</td>\n",
       "      <td>9244361700</td>\n",
       "      <td>2023-01-01 00:00:00</td>\n",
       "    </tr>\n",
       "    <tr>\n",
       "      <th>1</th>\n",
       "      <td>2023-01-02</td>\n",
       "      <td>16688.470703</td>\n",
       "      <td>16759.343750</td>\n",
       "      <td>16572.228516</td>\n",
       "      <td>16625.509766</td>\n",
       "      <td>12097775227</td>\n",
       "      <td>2023-01-02 00:00:00</td>\n",
       "    </tr>\n",
       "    <tr>\n",
       "      <th>2</th>\n",
       "      <td>2023-01-03</td>\n",
       "      <td>16679.857422</td>\n",
       "      <td>16760.447266</td>\n",
       "      <td>16622.371094</td>\n",
       "      <td>16688.847656</td>\n",
       "      <td>13903079207</td>\n",
       "      <td>2023-01-03 00:00:00</td>\n",
       "    </tr>\n",
       "    <tr>\n",
       "      <th>3</th>\n",
       "      <td>2023-01-04</td>\n",
       "      <td>16863.238281</td>\n",
       "      <td>16964.585938</td>\n",
       "      <td>16667.763672</td>\n",
       "      <td>16680.205078</td>\n",
       "      <td>18421743322</td>\n",
       "      <td>2023-01-04 00:00:00</td>\n",
       "    </tr>\n",
       "    <tr>\n",
       "      <th>4</th>\n",
       "      <td>2023-01-05</td>\n",
       "      <td>16836.736328</td>\n",
       "      <td>16884.021484</td>\n",
       "      <td>16790.283203</td>\n",
       "      <td>16863.472656</td>\n",
       "      <td>13692758566</td>\n",
       "      <td>2023-01-05 00:00:00</td>\n",
       "    </tr>\n",
       "  </tbody>\n",
       "</table>\n",
       "</div>"
      ],
      "text/plain": [
       "Price        Date         Close          High           Low          Open  \\\n",
       "Ticker                  BTC-USD       BTC-USD       BTC-USD       BTC-USD   \n",
       "0      2023-01-01  16625.080078  16630.439453  16521.234375  16547.914062   \n",
       "1      2023-01-02  16688.470703  16759.343750  16572.228516  16625.509766   \n",
       "2      2023-01-03  16679.857422  16760.447266  16622.371094  16688.847656   \n",
       "3      2023-01-04  16863.238281  16964.585938  16667.763672  16680.205078   \n",
       "4      2023-01-05  16836.736328  16884.021484  16790.283203  16863.472656   \n",
       "\n",
       "Price        Volume            timestamp  \n",
       "Ticker      BTC-USD                       \n",
       "0        9244361700  2023-01-01 00:00:00  \n",
       "1       12097775227  2023-01-02 00:00:00  \n",
       "2       13903079207  2023-01-03 00:00:00  \n",
       "3       18421743322  2023-01-04 00:00:00  \n",
       "4       13692758566  2023-01-05 00:00:00  "
      ]
     },
     "metadata": {},
     "output_type": "display_data"
    }
   ],
   "source": [
    "import yfinance as yf\n",
    "\n",
    "# 获取 Bitcoin 价格数据\n",
    "print(\"正在获取 Bitcoin 价格数据...\")\n",
    "btc_data = yf.download(\"BTC-USD\", start=\"2023-01-01\", end=\"2025-04-21\")\n",
    "btc_data.reset_index(inplace=True)\n",
    "btc_data[\"timestamp\"] = btc_data[\"Date\"].dt.strftime('%Y-%m-%d %H:%M:%S')\n",
    "btc_data.to_csv(\"../data/btc_prices.csv\", index=False)\n",
    "print(\"Bitcoin 价格数据已保存到 btc_prices.csv\")\n",
    "display(btc_data.head())"
   ]
  },
  {
   "cell_type": "code",
   "execution_count": 12,
   "id": "be8dfd40",
   "metadata": {},
   "outputs": [
    {
     "name": "stdout",
     "output_type": "stream",
     "text": [
      "合并后的数据：\n"
     ]
    },
    {
     "data": {
      "text/html": [
       "<div>\n",
       "<style scoped>\n",
       "    .dataframe tbody tr th:only-of-type {\n",
       "        vertical-align: middle;\n",
       "    }\n",
       "\n",
       "    .dataframe tbody tr th {\n",
       "        vertical-align: top;\n",
       "    }\n",
       "\n",
       "    .dataframe thead th {\n",
       "        text-align: right;\n",
       "    }\n",
       "</style>\n",
       "<table border=\"1\" class=\"dataframe\">\n",
       "  <thead>\n",
       "    <tr style=\"text-align: right;\">\n",
       "      <th></th>\n",
       "      <th>Date</th>\n",
       "      <th>Close</th>\n",
       "      <th>High</th>\n",
       "      <th>Low</th>\n",
       "      <th>Open</th>\n",
       "      <th>Volume</th>\n",
       "      <th>timestamp</th>\n",
       "      <th>sentiment</th>\n",
       "    </tr>\n",
       "  </thead>\n",
       "  <tbody>\n",
       "    <tr>\n",
       "      <th>0</th>\n",
       "      <td>NaN</td>\n",
       "      <td>BTC-USD</td>\n",
       "      <td>BTC-USD</td>\n",
       "      <td>BTC-USD</td>\n",
       "      <td>BTC-USD</td>\n",
       "      <td>BTC-USD</td>\n",
       "      <td>NaT</td>\n",
       "      <td>0.0</td>\n",
       "    </tr>\n",
       "    <tr>\n",
       "      <th>1</th>\n",
       "      <td>2023-01-01</td>\n",
       "      <td>16625.080078125</td>\n",
       "      <td>16630.439453125</td>\n",
       "      <td>16521.234375</td>\n",
       "      <td>16547.9140625</td>\n",
       "      <td>9244361700</td>\n",
       "      <td>2023-01-01</td>\n",
       "      <td>0.0</td>\n",
       "    </tr>\n",
       "    <tr>\n",
       "      <th>2</th>\n",
       "      <td>2023-01-02</td>\n",
       "      <td>16688.470703125</td>\n",
       "      <td>16759.34375</td>\n",
       "      <td>16572.228515625</td>\n",
       "      <td>16625.509765625</td>\n",
       "      <td>12097775227</td>\n",
       "      <td>2023-01-02</td>\n",
       "      <td>0.0</td>\n",
       "    </tr>\n",
       "    <tr>\n",
       "      <th>3</th>\n",
       "      <td>2023-01-03</td>\n",
       "      <td>16679.857421875</td>\n",
       "      <td>16760.447265625</td>\n",
       "      <td>16622.37109375</td>\n",
       "      <td>16688.84765625</td>\n",
       "      <td>13903079207</td>\n",
       "      <td>2023-01-03</td>\n",
       "      <td>0.0</td>\n",
       "    </tr>\n",
       "    <tr>\n",
       "      <th>4</th>\n",
       "      <td>2023-01-04</td>\n",
       "      <td>16863.23828125</td>\n",
       "      <td>16964.5859375</td>\n",
       "      <td>16667.763671875</td>\n",
       "      <td>16680.205078125</td>\n",
       "      <td>18421743322</td>\n",
       "      <td>2023-01-04</td>\n",
       "      <td>0.0</td>\n",
       "    </tr>\n",
       "  </tbody>\n",
       "</table>\n",
       "</div>"
      ],
      "text/plain": [
       "         Date            Close             High              Low  \\\n",
       "0         NaN          BTC-USD          BTC-USD          BTC-USD   \n",
       "1  2023-01-01  16625.080078125  16630.439453125     16521.234375   \n",
       "2  2023-01-02  16688.470703125      16759.34375  16572.228515625   \n",
       "3  2023-01-03  16679.857421875  16760.447265625   16622.37109375   \n",
       "4  2023-01-04   16863.23828125    16964.5859375  16667.763671875   \n",
       "\n",
       "              Open       Volume  timestamp  sentiment  \n",
       "0          BTC-USD      BTC-USD        NaT        0.0  \n",
       "1    16547.9140625   9244361700 2023-01-01        0.0  \n",
       "2  16625.509765625  12097775227 2023-01-02        0.0  \n",
       "3   16688.84765625  13903079207 2023-01-03        0.0  \n",
       "4  16680.205078125  18421743322 2023-01-04        0.0  "
      ]
     },
     "metadata": {},
     "output_type": "display_data"
    }
   ],
   "source": [
    "# 读取价格数据\n",
    "btc_data = pd.read_csv(\"../data/btc_prices.csv\")\n",
    "\n",
    "# 转换为 datetime 格式\n",
    "btc_data[\"timestamp\"] = pd.to_datetime(btc_data[\"timestamp\"])\n",
    "reddit_data[\"timestamp\"] = pd.to_datetime(reddit_data[\"timestamp\"])\n",
    "\n",
    "# 按时间戳合并（以 Reddit 数据为例）\n",
    "combined_data = btc_data.merge(reddit_data[[\"timestamp\", \"sentiment\"]], on=\"timestamp\", how=\"left\")\n",
    "combined_data[\"sentiment\"] = combined_data[\"sentiment\"].fillna(0)  # 填充缺失值\n",
    "print(\"合并后的数据：\")\n",
    "display(combined_data.head())"
   ]
  },
  {
   "cell_type": "code",
   "execution_count": 13,
   "id": "06554db4",
   "metadata": {},
   "outputs": [
    {
     "name": "stdout",
     "output_type": "stream",
     "text": [
      "Collecting scikit-learn\n",
      "  Downloading scikit_learn-1.6.1-cp311-cp311-macosx_12_0_arm64.whl.metadata (31 kB)\n",
      "Requirement already satisfied: numpy>=1.19.5 in /opt/anaconda3/envs/aimath/lib/python3.11/site-packages (from scikit-learn) (1.26.4)\n",
      "Requirement already satisfied: scipy>=1.6.0 in /opt/anaconda3/envs/aimath/lib/python3.11/site-packages (from scikit-learn) (1.12.0)\n",
      "Requirement already satisfied: joblib>=1.2.0 in /opt/anaconda3/envs/aimath/lib/python3.11/site-packages (from scikit-learn) (1.4.2)\n",
      "Collecting threadpoolctl>=3.1.0 (from scikit-learn)\n",
      "  Downloading threadpoolctl-3.6.0-py3-none-any.whl.metadata (13 kB)\n",
      "Downloading scikit_learn-1.6.1-cp311-cp311-macosx_12_0_arm64.whl (11.1 MB)\n",
      "\u001b[2K   \u001b[38;2;114;156;31m━━━━━━━━━━━━━━━━━━━━━━━━━━━━━━━━━━━━━━━━\u001b[0m \u001b[32m11.1/11.1 MB\u001b[0m \u001b[31m2.9 MB/s\u001b[0m eta \u001b[36m0:00:00\u001b[0m[31m2.9 MB/s\u001b[0m eta \u001b[36m0:00:01\u001b[0m\n",
      "\u001b[?25hDownloading threadpoolctl-3.6.0-py3-none-any.whl (18 kB)\n",
      "Installing collected packages: threadpoolctl, scikit-learn\n",
      "Successfully installed scikit-learn-1.6.1 threadpoolctl-3.6.0\n",
      "\n",
      "\u001b[1m[\u001b[0m\u001b[34;49mnotice\u001b[0m\u001b[1;39;49m]\u001b[0m\u001b[39;49m A new release of pip is available: \u001b[0m\u001b[31;49m24.3.1\u001b[0m\u001b[39;49m -> \u001b[0m\u001b[32;49m25.0.1\u001b[0m\n",
      "\u001b[1m[\u001b[0m\u001b[34;49mnotice\u001b[0m\u001b[1;39;49m]\u001b[0m\u001b[39;49m To update, run: \u001b[0m\u001b[32;49mpip install --upgrade pip\u001b[0m\n"
     ]
    }
   ],
   "source": [
    "!pip install scikit-learn"
   ]
  },
  {
   "cell_type": "code",
   "execution_count": null,
   "id": "1e0cc5ab",
   "metadata": {},
   "outputs": [],
   "source": [
    "from sklearn.model_selection import train_test_split\n",
    "from sklearn.linear_model import LinearRegression\n",
    "from sklearn.metrics import mean_squared_error\n",
    "import numpy as np\n",
    "\n",
    "# 准备数据\n",
    "X = combined_data[[\"sentiment\"]]  # 特征：情感得分\n",
    "y = combined_data[\"Close\"]  # 目标：收盘价\n",
    "\n",
    "# 划分训练集和测试集\n",
    "X_train, X_test, y_train, y_test = train_test_split(X, y, test_size=0.2, random_state=42)\n",
    "\n",
    "# 训练模型\n",
    "model = LinearRegression()\n",
    "model.fit(X_train, y_train)\n",
    "\n",
    "# 预测\n",
    "y_pred = model.predict(X_test)\n",
    "\n",
    "# 计算均方根误差\n",
    "rmse = np.sqrt(mean_squared_error(y_test, y_pred))\n",
    "print(f\"模型的 RMSE: {rmse}\")\n",
    "\n",
    "# 显示部分预测结果\n",
    "results = pd.DataFrame({\"Actual\": y_test, \"Predicted\": y_pred})\n",
    "display(results.head())"
   ]
  },
  {
   "cell_type": "code",
   "execution_count": null,
   "id": "dabf6747",
   "metadata": {},
   "outputs": [],
   "source": []
  }
 ],
 "metadata": {
  "kernelspec": {
   "display_name": "Python (aimath)",
   "language": "python",
   "name": "aimath"
  },
  "language_info": {
   "codemirror_mode": {
    "name": "ipython",
    "version": 3
   },
   "file_extension": ".py",
   "mimetype": "text/x-python",
   "name": "python",
   "nbconvert_exporter": "python",
   "pygments_lexer": "ipython3",
   "version": "3.11.8"
  }
 },
 "nbformat": 4,
 "nbformat_minor": 5
}
